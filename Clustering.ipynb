{
 "cells": [
  {
   "cell_type": "code",
   "execution_count": null,
   "metadata": {},
   "outputs": [],
   "source": [
    "# Clustering of Iris and Heart Disease Dataset\n",
    "\"\"\"\n",
    "Author: Mel McCord \n",
    "Date: 11/2/2020\n",
    "\"\"\"\n",
    "import numpy as np\n",
    "import matplotlib.pyplot as plt\n",
    "import os\n",
    "from kmeans import *\n",
    "import cluster_functions as cf"
   ]
  },
  {
   "cell_type": "code",
   "execution_count": null,
   "metadata": {},
   "outputs": [],
   "source": [
    "# PCA Analysis of Heart Failure\n",
    "heart, heart_names = arr_csv(\"heart_failure_clinical_records_dataset.csv\")\n",
    "norm_heart = (heart - np.mean(heart, axis=0)) / np.std(heart, axis=0)\n",
    "cov_matrix = np.cov(norm_heart, rowvar=False)\n",
    "plt.imshow(cov_matrix)\n",
    "plt.colorbar()\n",
    "plt.show()\n",
    "# removing the classification column\n",
    "print(heart.shape)\n",
    "X, P, e_scaled = pca_svd(heart)\n",
    "scatter3D(P, 0, 1, 2)\n",
    "total_retained = 0\n",
    "print()\n",
    "print(heart_names)\n",
    "print(\"Maximum visualized clustering retained: \")\n",
    "\n",
    "X_rec = reconstruct(heart, 3)\n",
    "x = heart[:, 0]\n",
    "y = heart[:, 1]\n",
    "x = X_rec[:, 0]\n",
    "y = X_rec[:, 1]\n",
    "fig, ax = plt.subplots(2, 1)\n",
    "plt.subplots_adjust(hspace=0.8)\n",
    "cf.scatter3D(heart, 2, 1, 0)\n",
    "cf.scatter3D(X_rec, 2, 1, 0)"
   ]
  },
  {
   "cell_type": "code",
   "execution_count": null,
   "metadata": {},
   "outputs": [],
   "source": [
    "# Performing PCA on Iris\n",
    "iris, iris_names = arr_csv(\"iris.data\")\n",
    "iris_rec = reconstruct(iris, iris.shape[1])\n",
    "X, P, e_scaled = pca_svd(iris)\n",
    "print()\n",
    "print(iris_names)\n",
    "print(\"Maximum visualized clustering retained: \")\n",
    "fig, ax = plt.subplots(2, 1)\n",
    "plt.subplots_adjust(hspace=0.8)\n",
    "ax[0].plot(iris[:, 0], iris[:, 1], 'ob', alpha=0.3, c='r')\n",
    "ax[1].plot(iris_rec[:, 0], iris_rec[:, 1], 'or', alpha=0.3, c='b')\n",
    "ax[0].set_title(\"Original Iris Dataset\")\n",
    "ax[1].set_title(\"Reconstructed Iris Dataset\")\n",
    "ax[1].set_xlabel(iris_names[0])\n",
    "ax[1].set_ylabel(iris_names[1])\n",
    "ax[0].set_xlabel(iris_names[0])\n",
    "ax[0].set_ylabel(iris_names[1])\n",
    "plt.show()"
   ]
  },
  {
   "cell_type": "code",
   "execution_count": null,
   "metadata": {},
   "outputs": [],
   "source": [
    "# Performing clustering on iris\n",
    "# cluster_analysis(\"iris.data\", k=3, class_col=4)"
   ]
  },
  {
   "cell_type": "code",
   "execution_count": null,
   "metadata": {},
   "outputs": [],
   "source": [
    "# Performing clustering on heart failure dataset\n",
    "cluster_analysis(\"heart_failure_clinical_records_dataset.csv\", k=2, class_col=12)"
   ]
  }
 ],
 "metadata": {
  "kernelspec": {
   "display_name": "Python 3",
   "language": "python",
   "name": "python3"
  },
  "language_info": {
   "codemirror_mode": {
    "name": "ipython",
    "version": 3
   },
   "file_extension": ".py",
   "mimetype": "text/x-python",
   "name": "python",
   "nbconvert_exporter": "python",
   "pygments_lexer": "ipython3",
   "version": "3.8.3"
  }
 },
 "nbformat": 4,
 "nbformat_minor": 4
}
